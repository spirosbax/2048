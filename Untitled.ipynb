{
 "cells": [
  {
   "cell_type": "code",
   "execution_count": 2,
   "metadata": {},
   "outputs": [
    {
     "name": "stdout",
     "output_type": "stream",
     "text": [
      "[[16 15 14 13]\n",
      " [ 9 10 11 12]\n",
      " [ 8  7  6  5]\n",
      " [ 1  2  3  4]]\n"
     ]
    }
   ],
   "source": [
    "import numpy as np\n",
    "ar = np.array([[16,15,14,13],\n",
    "                 [9,10,11,12],\n",
    "                 [8,7,6,5],\n",
    "                 [1,2,3,4]])"
   ]
  },
  {
   "cell_type": "code",
   "execution_count": 9,
   "metadata": {},
   "outputs": [
    {
     "name": "stdout",
     "output_type": "stream",
     "text": [
      "[[16 15 14 13]\n",
      " [ 9 10 11 12]\n",
      " [ 8  7  6  5]\n",
      " [ 1  2  3  4]]\n",
      "[[16 15 14 13]\n",
      " [ 9 10 11 12]\n",
      " [ 8  7  6  5]\n",
      " [ 1  2  3  4]]\n",
      "[[13 12  5  4]\n",
      " [14 11  6  3]\n",
      " [15 10  7  2]\n",
      " [16  9  8  1]]\n",
      "[[29 27 19 17]\n",
      " [23 21 17 15]\n",
      " [23 17 13  7]\n",
      " [17 11 11  5]]\n",
      "[[ 4  3  2  1]\n",
      " [ 5  6  7  8]\n",
      " [12 11 10  9]\n",
      " [13 14 15 16]]\n",
      "[[33 30 21 18]\n",
      " [28 27 24 23]\n",
      " [35 28 23 16]\n",
      " [30 25 26 21]]\n"
     ]
    }
   ],
   "source": [
    "sum = 0\n",
    "sum+=ar\n",
    "for i in range(3):\n",
    "    print(ar,end='\\n')\n",
    "    print(sum)\n",
    "    ar = np.rot90(ar)\n",
    "    sum+=ar"
   ]
  },
  {
   "cell_type": "code",
   "execution_count": 10,
   "metadata": {},
   "outputs": [
    {
     "name": "stdout",
     "output_type": "stream",
     "text": [
      "[[34 38 30 34]\n",
      " [30 34 34 38]\n",
      " [38 34 34 30]\n",
      " [34 30 38 34]]\n"
     ]
    }
   ],
   "source": [
    "print(sum)"
   ]
  },
  {
   "cell_type": "code",
   "execution_count": null,
   "metadata": {},
   "outputs": [],
   "source": []
  }
 ],
 "metadata": {
  "kernelspec": {
   "display_name": "Python 3",
   "language": "python",
   "name": "python3"
  },
  "language_info": {
   "codemirror_mode": {
    "name": "ipython",
    "version": 3
   },
   "file_extension": ".py",
   "mimetype": "text/x-python",
   "name": "python",
   "nbconvert_exporter": "python",
   "pygments_lexer": "ipython3",
   "version": "3.5.2"
  }
 },
 "nbformat": 4,
 "nbformat_minor": 2
}
